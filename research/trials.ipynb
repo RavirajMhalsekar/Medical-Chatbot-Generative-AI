{
 "cells": [
  {
   "cell_type": "code",
   "execution_count": 4,
   "id": "197c0510",
   "metadata": {},
   "outputs": [
    {
     "data": {
      "text/plain": [
       "'c:\\\\Users\\\\dell\\\\Desktop\\\\New folder\\\\Medical-Chatbot-Generative-AI\\\\research'"
      ]
     },
     "execution_count": 4,
     "metadata": {},
     "output_type": "execute_result"
    }
   ],
   "source": [
    "%pwd"
   ]
  },
  {
   "cell_type": "code",
   "execution_count": 5,
   "id": "5047383a",
   "metadata": {},
   "outputs": [],
   "source": [
    "import os\n",
    "os.chdir(\"../\")"
   ]
  },
  {
   "cell_type": "code",
   "execution_count": 6,
   "id": "cf7edbc4",
   "metadata": {},
   "outputs": [
    {
     "data": {
      "text/plain": [
       "'c:\\\\Users\\\\dell\\\\Desktop\\\\New folder\\\\Medical-Chatbot-Generative-AI'"
      ]
     },
     "execution_count": 6,
     "metadata": {},
     "output_type": "execute_result"
    }
   ],
   "source": [
    "%pwd"
   ]
  },
  {
   "cell_type": "code",
   "execution_count": 7,
   "id": "feb9aa55",
   "metadata": {},
   "outputs": [],
   "source": [
    "from langchain.document_loaders import PyPDFLoader, DirectoryLoader\n",
    "from langchain.text_splitter import RecursiveCharacterTextSplitter\n"
   ]
  },
  {
   "cell_type": "code",
   "execution_count": 8,
   "id": "10805482",
   "metadata": {},
   "outputs": [],
   "source": [
    "#extract the data from the pdf file\n",
    "def load_pdf_file(data):\n",
    "    loader = DirectoryLoader(data, glob=\"*.pdf\", loader_cls=PyPDFLoader)\n",
    "\n",
    "    documents = loader.load()\n",
    "    return documents"
   ]
  },
  {
   "cell_type": "code",
   "execution_count": 9,
   "id": "795233bf",
   "metadata": {},
   "outputs": [
    {
     "name": "stdout",
     "output_type": "stream",
     "text": [
      "c:\\Users\\dell\\Desktop\\New folder\\Medical-Chatbot-Generative-AI\n"
     ]
    }
   ],
   "source": [
    "import os\n",
    "print(os.getcwd())\n"
   ]
  },
  {
   "cell_type": "code",
   "execution_count": 54,
   "id": "7f656366",
   "metadata": {},
   "outputs": [],
   "source": [
    "extracted_data = load_pdf_file(data=\"Data/\")"
   ]
  },
  {
   "cell_type": "code",
   "execution_count": 11,
   "id": "8f310113",
   "metadata": {},
   "outputs": [],
   "source": [
    "# extracted_data"
   ]
  },
  {
   "cell_type": "code",
   "execution_count": 12,
   "id": "197b68e3",
   "metadata": {},
   "outputs": [],
   "source": [
    "#split the data into chunks\n",
    "def text_split(extracted_data):\n",
    "    text_splitter = RecursiveCharacterTextSplitter(\n",
    "        chunk_size=500,\n",
    "        chunk_overlap=20\n",
    "    )\n",
    "\n",
    "    texts = text_splitter.split_documents(extracted_data)\n",
    "    return texts"
   ]
  },
  {
   "cell_type": "code",
   "execution_count": 13,
   "id": "f6b4bd84",
   "metadata": {},
   "outputs": [
    {
     "name": "stdout",
     "output_type": "stream",
     "text": [
      "Number of text chunks: 5699\n"
     ]
    }
   ],
   "source": [
    "text_chunks = text_split(extracted_data)\n",
    "print(f\"Number of text chunks: {len(text_chunks)}\")"
   ]
  },
  {
   "cell_type": "code",
   "execution_count": 14,
   "id": "20537507",
   "metadata": {},
   "outputs": [
    {
     "name": "stderr",
     "output_type": "stream",
     "text": [
      "c:\\Users\\dell\\miniconda3\\envs\\medibot\\lib\\site-packages\\tqdm\\auto.py:21: TqdmWarning: IProgress not found. Please update jupyter and ipywidgets. See https://ipywidgets.readthedocs.io/en/stable/user_install.html\n",
      "  from .autonotebook import tqdm as notebook_tqdm\n"
     ]
    },
    {
     "name": "stdout",
     "output_type": "stream",
     "text": [
      "✅ Model loaded successfully\n"
     ]
    }
   ],
   "source": [
    "from sentence_transformers import SentenceTransformer\n",
    "model = SentenceTransformer(\"sentence-transformers/all-MiniLM-L6-v2\")\n",
    "print(\"✅ Model loaded successfully\")\n"
   ]
  },
  {
   "cell_type": "code",
   "execution_count": 15,
   "id": "5021d1a0",
   "metadata": {},
   "outputs": [],
   "source": [
    "#download the embeddings from huggingface\n",
    "from langchain.embeddings import HuggingFaceEmbeddings\n",
    "def download_hugging_face_embeddings():\n",
    "    embeddings = HuggingFaceEmbeddings(model_name=\"sentence-transformers/all-MiniLM-L6-v2\")\n",
    "    return embeddings"
   ]
  },
  {
   "cell_type": "code",
   "execution_count": 16,
   "id": "66f9f336",
   "metadata": {},
   "outputs": [
    {
     "name": "stderr",
     "output_type": "stream",
     "text": [
      "C:\\Users\\dell\\AppData\\Local\\Temp\\ipykernel_9240\\1736838492.py:4: LangChainDeprecationWarning: The class `HuggingFaceEmbeddings` was deprecated in LangChain 0.2.2 and will be removed in 1.0. An updated version of the class exists in the :class:`~langchain-huggingface package and should be used instead. To use it run `pip install -U :class:`~langchain-huggingface` and import as `from :class:`~langchain_huggingface import HuggingFaceEmbeddings``.\n",
      "  embeddings = HuggingFaceEmbeddings(model_name=\"sentence-transformers/all-MiniLM-L6-v2\")\n"
     ]
    }
   ],
   "source": [
    "embeddings = download_hugging_face_embeddings()"
   ]
  },
  {
   "cell_type": "code",
   "execution_count": 17,
   "id": "6b65f62b",
   "metadata": {},
   "outputs": [
    {
     "name": "stdout",
     "output_type": "stream",
     "text": [
      "Query result: [0.008776667527854443, 0.1564365178346634, -0.04509522765874863, 0.051768939942121506, 0.009445116855204105]\n"
     ]
    }
   ],
   "source": [
    "query_result = embeddings.embed_query(\"What is the purpose of the study?\")\n",
    "print(f\"Query result: {query_result[:5]}\")  # Print first 5 elements of the query result"
   ]
  },
  {
   "cell_type": "code",
   "execution_count": 45,
   "id": "3620c51e",
   "metadata": {},
   "outputs": [],
   "source": [
    "import os\n",
    "from dotenv import load_dotenv\n",
    "load_dotenv()\n",
    "# Load environment variables\n",
    "PINECONE_API_KEY = os.environ.get('PINECONE_API_KEY')\n",
    "GROQ_API_KEY = os.environ.get('GROQ_API_KEY')"
   ]
  },
  {
   "cell_type": "code",
   "execution_count": 23,
   "id": "15e862c9",
   "metadata": {},
   "outputs": [
    {
     "name": "stdout",
     "output_type": "stream",
     "text": [
      "✅ Index created successfully!\n"
     ]
    }
   ],
   "source": [
    "from pinecone.grpc import PineconeGRPC as Pinecone\n",
    "from pinecone import ServerlessSpec\n",
    "\n",
    "pc = Pinecone(api_key=PINECONE_API_KEY)\n",
    "\n",
    "index_name = \"medicalbot\"\n",
    "\n",
    "pc.create_index(\n",
    "    name=index_name,  \n",
    "    dimension=384,\n",
    "    metric=\"cosine\",\n",
    "    spec=ServerlessSpec(\n",
    "        cloud=\"aws\",\n",
    "        region=\"us-east-1\",\n",
    "    ),\n",
    ")\n",
    "\n",
    "print(\"✅ Index created successfully!\")\n"
   ]
  },
  {
   "cell_type": "code",
   "execution_count": 46,
   "id": "688f6150",
   "metadata": {},
   "outputs": [],
   "source": [
    "import os \n",
    "os.environ[\"PINECONE_API_KEY\"] = PINECONE_API_KEY\n",
    "os.environ[\"GROQ_API_KEY\"] = GROQ_API_KEY"
   ]
  },
  {
   "cell_type": "code",
   "execution_count": 25,
   "id": "b1bccee4",
   "metadata": {},
   "outputs": [],
   "source": [
    "# Embedding the text chunks and storing them in Pinecone\n",
    "from langchain_pinecone import PineconeVectorStore\n",
    "\n",
    "docsearch = PineconeVectorStore.from_documents(\n",
    "    documents=text_chunks,\n",
    "    embedding=embeddings,\n",
    "    index_name=index_name,  \n",
    ")"
   ]
  },
  {
   "cell_type": "code",
   "execution_count": 26,
   "id": "ac656c71",
   "metadata": {},
   "outputs": [],
   "source": [
    "#load existing index\n",
    "from langchain_pinecone import PineconeVectorStore\n",
    "docsearch = PineconeVectorStore.from_existing_index(\n",
    "    index_name=index_name,\n",
    "    embedding=embeddings,   \n",
    ")"
   ]
  },
  {
   "cell_type": "code",
   "execution_count": 38,
   "id": "da935ef8",
   "metadata": {},
   "outputs": [],
   "source": [
    "retriever = docsearch.as_retriever(search_type=\"similarity\", search_kwargs={\"k\": 5})"
   ]
  },
  {
   "cell_type": "code",
   "execution_count": 39,
   "id": "724a99a4",
   "metadata": {},
   "outputs": [
    {
     "data": {
      "text/plain": [
       "[Document(id='dd95c9b9-802f-43fa-a993-9d22da3bb189', metadata={'author': 'Clifford', 'creationdate': '2004-12-28T15:38:25-05:00', 'creator': 'PyPDF', 'enhanced': 'By PDF Enhancer 2.5/Win', 'moddate': '2005-05-04T13:53:15-06:00', 'page': 411.0, 'page_label': '412', 'producer': 'PDFlib+PDI 5.0.0 (SunOS)', 'source': 'Data\\\\The-Gale-Encyclopedia-of-Medicine.pdf', 'spdf': '1096', 'total_pages': 599.0}, page_content='The initial visit often includes a long questionnaire\\nabout a patient’s medical and family history , and then a\\nlong interview with the doctor, who prompts the patient\\nwith many questions. Sometimes a homeopathic doctor\\nwill use lab tests to establish a patient’s general level of\\nhealth. The initial interview usually lasts between one\\nand two hours.\\nThe purpose of homeopathy is the restoration of the\\nbody to homeostasis, or healthy balance, which is its nat-'),\n",
       " Document(id='1b0e343d-15cc-48e6-ab02-a88420fdc458', metadata={'author': 'Clifford', 'creationdate': '2004-12-28T15:38:25-05:00', 'creator': 'PyPDF', 'enhanced': 'By PDF Enhancer 2.5/Win', 'moddate': '2005-05-04T13:53:15-06:00', 'page': 525.0, 'page_label': '526', 'producer': 'PDFlib+PDI 5.0.0 (SunOS)', 'source': 'Data\\\\The-Gale-Encyclopedia-of-Medicine.pdf', 'spdf': '1096', 'total_pages': 599.0}, page_content='the reading. The range of information gleaned encom-\\npasses physical, emotional, mental, and spiritual aspects\\nof the person’s health picture. In addition to assessing\\nthe person’s general level of health, readings can reveal\\nother data, including energy quotients; internal areas of\\nirritation, degeneration, injury , or inflammation; nutri-\\nOTHER\\nBrown, Susan E. Ph.D., CCN, Ipriflavone, Osteoporosis Edu-\\ncation Project Analysis. The Osteoporosis Education Pro-'),\n",
       " Document(id='7cf29a49-638d-44fc-9ddc-3ba57a46d7af', metadata={'author': 'Clifford', 'creationdate': '2004-12-28T15:38:25-05:00', 'creator': 'PyPDF', 'enhanced': 'By PDF Enhancer 2.5/Win', 'moddate': '2005-05-04T13:53:15-06:00', 'page': 168.0, 'page_label': '169', 'producer': 'PDFlib+PDI 5.0.0 (SunOS)', 'source': 'Data\\\\The-Gale-Encyclopedia-of-Medicine.pdf', 'spdf': '1096', 'total_pages': 599.0}, page_content='practice, an individual can learn to achieve his or her high-\\nest potential, while at the same time learning to avoid and\\neliminate stresses, strains, and the possibility of injury .\\nFunctional integration\\nDuring this session, the patient wears comfortable\\nclothing, and may sit, stand, walk, or lie on a low padded\\ntable. The practitioner helps the pupil by guiding him or\\nher through a number of movements. The practitioner\\nmay use touch to communicate with the student, but'),\n",
       " Document(id='d505df29-3d01-4697-bc68-ae1cd4cb91b8', metadata={'author': 'Clifford', 'creationdate': '2004-12-28T15:38:25-05:00', 'creator': 'PyPDF', 'enhanced': 'By PDF Enhancer 2.5/Win', 'moddate': '2005-05-04T13:53:15-06:00', 'page': 120.0, 'page_label': '121', 'producer': 'PDFlib+PDI 5.0.0 (SunOS)', 'source': 'Data\\\\The-Gale-Encyclopedia-of-Medicine.pdf', 'spdf': '1096', 'total_pages': 599.0}, page_content='and hair analyses are used to measure a variety of bodily\\nfunctions that may indicate problems. Environmental\\ntherapists have access to laboratories that specialize in\\nsophisticated blood, urine, and other diagnostic tests.\\nIn testing for environmental illness, liver function is\\nstudied closely because the liver is the principle organ in\\nthe body responsible for removing toxic compounds. An-\\nother useful blood test is a test for zinc deficiency , which'),\n",
       " Document(id='14b7bdd9-9db2-46a3-9463-f81c17d9c0e7', metadata={'author': 'Clifford', 'creationdate': '2004-12-28T15:38:25-05:00', 'creator': 'PyPDF', 'enhanced': 'By PDF Enhancer 2.5/Win', 'moddate': '2005-05-04T13:53:15-06:00', 'page': 527.0, 'page_label': '528', 'producer': 'PDFlib+PDI 5.0.0 (SunOS)', 'source': 'Data\\\\The-Gale-Encyclopedia-of-Medicine.pdf', 'spdf': '1096', 'total_pages': 599.0}, page_content='that the iris reflects what is happening throughout the\\nbody via nerve conduction from all parts of the body to\\nthe eye. The client’s health is assessed by the iridologist,\\nwho interprets patterns, shapes, rings, colors and pig-\\nmentation markings, fibers, structures, and changes in\\nthe pupil and iris. Many iridologists also use sclerology\\n(reading the lines in the white part of the eyes) in their\\nhealth evaluation.\\nIridology readings are typically performed by such')]"
      ]
     },
     "execution_count": 39,
     "metadata": {},
     "output_type": "execute_result"
    }
   ],
   "source": [
    "retrived_docs = retriever.invoke(\"What is the purpose of the study?\")\n",
    "retrived_docs"
   ]
  },
  {
   "cell_type": "code",
   "execution_count": 50,
   "id": "1b27f959",
   "metadata": {},
   "outputs": [],
   "source": [
    "from langchain_groq import ChatGroq\n",
    "\n",
    "llm = ChatGroq(\n",
    "    model=\"llama3-8b-8192\",\n",
    "    temperature=0.4,\n",
    "    max_tokens=500\n",
    ")\n"
   ]
  },
  {
   "cell_type": "code",
   "execution_count": 41,
   "id": "bb558b0f",
   "metadata": {},
   "outputs": [],
   "source": [
    "from langchain.chains import create_retrieval_chain\n",
    "from langchain.chains.combine_documents import create_stuff_documents_chain\n",
    "from langchain_core.prompts import ChatPromptTemplate\n",
    "\n",
    "system_prompt = (\n",
    "    \"You are a medical research assistant. \"\n",
    "    \"Your task is to answer questions based on the provided documents. \"\n",
    "    \"If the answer is not found in the documents, respond with 'I don't know'.\"\n",
    "    \"Use three sentences maximum to answer the question and keep the answer concise.\"\n",
    "    \"\\n\\n\"\n",
    "    \"{context}\"\n",
    ")\n",
    "\n",
    "prompt = ChatPromptTemplate.from_messages(\n",
    "    [\n",
    "        (\"system\", system_prompt),\n",
    "        (\"human\", \"{input}\"),\n",
    "    ]\n",
    ")"
   ]
  },
  {
   "cell_type": "code",
   "execution_count": 51,
   "id": "2a99b7f3",
   "metadata": {},
   "outputs": [],
   "source": [
    "question_answer_chain = create_stuff_documents_chain(llm, prompt)\n",
    "rag_chain = create_retrieval_chain(retriever, question_answer_chain)"
   ]
  },
  {
   "cell_type": "code",
   "execution_count": 52,
   "id": "2d336781",
   "metadata": {},
   "outputs": [
    {
     "name": "stdout",
     "output_type": "stream",
     "text": [
      "The purpose of homeopathy is the restoration of the body to homeostasis, or healthy balance, which is its natural state. This involves assessing the person's general level of health, as well as physical, emotional, mental, and spiritual aspects of their health picture.\n",
      "✅ Response generated successfully!\n"
     ]
    }
   ],
   "source": [
    "response = rag_chain.invoke({\"input\":\"What is the purpose of the study?\"})\n",
    "print(response['answer'])  \n",
    "print(\"✅ Response generated successfully!\")"
   ]
  },
  {
   "cell_type": "code",
   "execution_count": 53,
   "id": "d5f36188",
   "metadata": {},
   "outputs": [
    {
     "name": "stdout",
     "output_type": "stream",
     "text": [
      "I don't know. The provided documents do not mention \"stats\".\n"
     ]
    }
   ],
   "source": [
    "response = rag_chain.invoke({\"input\":\"What is stats?\"})\n",
    "print(response['answer'])  "
   ]
  }
 ],
 "metadata": {
  "kernelspec": {
   "display_name": "Python (medibot)",
   "language": "python",
   "name": "medibot"
  },
  "language_info": {
   "codemirror_mode": {
    "name": "ipython",
    "version": 3
   },
   "file_extension": ".py",
   "mimetype": "text/x-python",
   "name": "python",
   "nbconvert_exporter": "python",
   "pygments_lexer": "ipython3",
   "version": "3.10.18"
  }
 },
 "nbformat": 4,
 "nbformat_minor": 5
}
